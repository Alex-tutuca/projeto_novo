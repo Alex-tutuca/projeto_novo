{
 "cells": [
  {
   "cell_type": "markdown",
   "id": "61c62552-b2ad-4bd8-a223-a89be1137c49",
   "metadata": {},
   "source": [
    "## 1. Imports"
   ]
  },
  {
   "cell_type": "code",
   "execution_count": 28,
   "id": "0b13d3e2-b54c-412b-8e18-b4ac438f76f2",
   "metadata": {
    "scrolled": true
   },
   "outputs": [],
   "source": [
    "import pandas as pd\n",
    "import seaborn as sns\n",
    "import matplotlib.pyplot as plt\n",
    "import os \n",
    "import numpy "
   ]
  },
  {
   "cell_type": "markdown",
   "id": "e3f88d8d-3007-43b5-9dfc-9fb58abc8d52",
   "metadata": {
    "jp-MarkdownHeadingCollapsed": true
   },
   "source": [
    "## 2. Auxiliary Functionss"
   ]
  },
  {
   "cell_type": "markdown",
   "id": "fdf8b114-81c1-4855-8b0f-23a6b7ccce6f",
   "metadata": {},
   "source": [
    "## 3. Loading Data Frame"
   ]
  },
  {
   "cell_type": "code",
   "execution_count": 29,
   "id": "950918be-dd79-4252-a3c7-adc7f63b07e3",
   "metadata": {},
   "outputs": [
    {
     "data": {
      "text/html": [
       "<div>\n",
       "<style scoped>\n",
       "    .dataframe tbody tr th:only-of-type {\n",
       "        vertical-align: middle;\n",
       "    }\n",
       "\n",
       "    .dataframe tbody tr th {\n",
       "        vertical-align: top;\n",
       "    }\n",
       "\n",
       "    .dataframe thead th {\n",
       "        text-align: right;\n",
       "    }\n",
       "</style>\n",
       "<table border=\"1\" class=\"dataframe\">\n",
       "  <thead>\n",
       "    <tr style=\"text-align: right;\">\n",
       "      <th></th>\n",
       "      <th>ProductID</th>\n",
       "      <th>ProductName</th>\n",
       "      <th>Category</th>\n",
       "      <th>Price</th>\n",
       "      <th>Rating</th>\n",
       "      <th>NumReviews</th>\n",
       "      <th>StockQuantity</th>\n",
       "      <th>Discount</th>\n",
       "      <th>Sales</th>\n",
       "      <th>DateAdded</th>\n",
       "      <th>City</th>\n",
       "    </tr>\n",
       "  </thead>\n",
       "  <tbody>\n",
       "    <tr>\n",
       "      <th>0</th>\n",
       "      <td>1</td>\n",
       "      <td>Headphones</td>\n",
       "      <td>Electronics</td>\n",
       "      <td>400.31</td>\n",
       "      <td>1.7</td>\n",
       "      <td>3772</td>\n",
       "      <td>20</td>\n",
       "      <td>0.08</td>\n",
       "      <td>466</td>\n",
       "      <td>2023-11-10</td>\n",
       "      <td>Albuquerque</td>\n",
       "    </tr>\n",
       "    <tr>\n",
       "      <th>1</th>\n",
       "      <td>2</td>\n",
       "      <td>Headphones</td>\n",
       "      <td>Electronics</td>\n",
       "      <td>235.03</td>\n",
       "      <td>2.3</td>\n",
       "      <td>2919</td>\n",
       "      <td>663</td>\n",
       "      <td>0.33</td>\n",
       "      <td>1332</td>\n",
       "      <td>2023-09-28</td>\n",
       "      <td>Queens</td>\n",
       "    </tr>\n",
       "    <tr>\n",
       "      <th>2</th>\n",
       "      <td>3</td>\n",
       "      <td>Smartwatch</td>\n",
       "      <td>Electronics</td>\n",
       "      <td>417.90</td>\n",
       "      <td>1.8</td>\n",
       "      <td>1184</td>\n",
       "      <td>459</td>\n",
       "      <td>0.31</td>\n",
       "      <td>252</td>\n",
       "      <td>2023-10-20</td>\n",
       "      <td>Austin</td>\n",
       "    </tr>\n",
       "    <tr>\n",
       "      <th>3</th>\n",
       "      <td>4</td>\n",
       "      <td>Smartphone</td>\n",
       "      <td>Electronics</td>\n",
       "      <td>152.70</td>\n",
       "      <td>3.4</td>\n",
       "      <td>2047</td>\n",
       "      <td>475</td>\n",
       "      <td>0.49</td>\n",
       "      <td>1806</td>\n",
       "      <td>2023-12-05</td>\n",
       "      <td>Dallas</td>\n",
       "    </tr>\n",
       "    <tr>\n",
       "      <th>4</th>\n",
       "      <td>5</td>\n",
       "      <td>Laptop</td>\n",
       "      <td>Electronics</td>\n",
       "      <td>394.74</td>\n",
       "      <td>1.8</td>\n",
       "      <td>1267</td>\n",
       "      <td>831</td>\n",
       "      <td>0.23</td>\n",
       "      <td>1508</td>\n",
       "      <td>2023-08-10</td>\n",
       "      <td>Tucson</td>\n",
       "    </tr>\n",
       "  </tbody>\n",
       "</table>\n",
       "</div>"
      ],
      "text/plain": [
       "   ProductID ProductName     Category   Price  Rating  NumReviews  \\\n",
       "0          1  Headphones  Electronics  400.31     1.7        3772   \n",
       "1          2  Headphones  Electronics  235.03     2.3        2919   \n",
       "2          3  Smartwatch  Electronics  417.90     1.8        1184   \n",
       "3          4  Smartphone  Electronics  152.70     3.4        2047   \n",
       "4          5      Laptop  Electronics  394.74     1.8        1267   \n",
       "\n",
       "   StockQuantity  Discount  Sales   DateAdded         City  \n",
       "0             20      0.08    466  2023-11-10  Albuquerque  \n",
       "1            663      0.33   1332  2023-09-28       Queens  \n",
       "2            459      0.31    252  2023-10-20       Austin  \n",
       "3            475      0.49   1806  2023-12-05       Dallas  \n",
       "4            831      0.23   1508  2023-08-10       Tucson  "
      ]
     },
     "execution_count": 29,
     "metadata": {},
     "output_type": "execute_result"
    }
   ],
   "source": [
    "arquivo_csv = os.path.join(os.getcwd(), \"ecommerce_product_dataset.csv\")\n",
    "\n",
    "df = pd.read_csv(arquivo_csv)\n",
    "df.head()"
   ]
  },
  {
   "cell_type": "markdown",
   "id": "9b6d51af-ef02-46a6-af57-068f68327c06",
   "metadata": {},
   "source": [
    "## 4. Data Description"
   ]
  },
  {
   "cell_type": "markdown",
   "id": "29f61b44-3bf1-4152-b685-14d8ec17d090",
   "metadata": {},
   "source": [
    "#### 4.1 Data Types"
   ]
  },
  {
   "cell_type": "code",
   "execution_count": 3,
   "id": "46e0089a-20e3-4d95-b7f9-187ac19e1bd9",
   "metadata": {},
   "outputs": [
    {
     "name": "stdout",
     "output_type": "stream",
     "text": [
      "<class 'pandas.core.frame.DataFrame'>\n",
      "RangeIndex: 1000 entries, 0 to 999\n",
      "Data columns (total 11 columns):\n",
      " #   Column         Non-Null Count  Dtype  \n",
      "---  ------         --------------  -----  \n",
      " 0   ProductID      1000 non-null   int64  \n",
      " 1   ProductName    1000 non-null   object \n",
      " 2   Category       1000 non-null   object \n",
      " 3   Price          1000 non-null   float64\n",
      " 4   Rating         1000 non-null   float64\n",
      " 5   NumReviews     1000 non-null   int64  \n",
      " 6   StockQuantity  1000 non-null   int64  \n",
      " 7   Discount       1000 non-null   float64\n",
      " 8   Sales          1000 non-null   int64  \n",
      " 9   DateAdded      1000 non-null   object \n",
      " 10  City           1000 non-null   object \n",
      "dtypes: float64(3), int64(4), object(4)\n",
      "memory usage: 86.1+ KB\n"
     ]
    }
   ],
   "source": [
    "df.info()"
   ]
  },
  {
   "cell_type": "markdown",
   "id": "652658a4-bcf5-4801-a93d-49ecf8de48c3",
   "metadata": {},
   "source": [
    "### N/A Data Quantities "
   ]
  },
  {
   "cell_type": "code",
   "execution_count": 4,
   "id": "33175f9f-8836-4487-ab31-13fbe4b264aa",
   "metadata": {},
   "outputs": [
    {
     "data": {
      "text/plain": [
       "ProductID        0\n",
       "ProductName      0\n",
       "Category         0\n",
       "Price            0\n",
       "Rating           0\n",
       "NumReviews       0\n",
       "StockQuantity    0\n",
       "Discount         0\n",
       "Sales            0\n",
       "DateAdded        0\n",
       "City             0\n",
       "dtype: int64"
      ]
     },
     "execution_count": 4,
     "metadata": {},
     "output_type": "execute_result"
    }
   ],
   "source": [
    "df.isnull().sum()"
   ]
  },
  {
   "cell_type": "markdown",
   "id": "1f322ce6-054e-483d-b409-4408293213f4",
   "metadata": {},
   "source": [
    "### 4.3 Converting 'DateAdded' column to datetime"
   ]
  },
  {
   "cell_type": "code",
   "execution_count": 5,
   "id": "c131bb49-9635-45cb-a8d4-9a7d5e3a7999",
   "metadata": {},
   "outputs": [],
   "source": [
    "# Converting 'DateAdded' column to datetime\n",
    "df['DateAdded'] = pd.to_datetime(df['DateAdded'], errors='coerce')"
   ]
  },
  {
   "cell_type": "markdown",
   "id": "fb82c6c1-22a7-4277-9faa-c03aa758aa5b",
   "metadata": {},
   "source": [
    "### 4.4 Descriptive Statistics"
   ]
  },
  {
   "cell_type": "code",
   "execution_count": 6,
   "id": "d2dd3dd6-3492-4ddf-9b38-617082d3fc89",
   "metadata": {},
   "outputs": [],
   "source": [
    "# Separating numeric and categorical Data Frame data\n",
    "atrib_numer = df.select_dtypes( include =['int64', 'float64'] )\n",
    "atrib_cat = df.select_dtypes( exclude =['int64', 'float64', 'datetime64[ns]'] )"
   ]
  },
  {
   "cell_type": "code",
   "execution_count": 7,
   "id": "51cfddb1-5286-487c-9d20-30571baca6a5",
   "metadata": {},
   "outputs": [
    {
     "data": {
      "text/html": [
       "<div>\n",
       "<style scoped>\n",
       "    .dataframe tbody tr th:only-of-type {\n",
       "        vertical-align: middle;\n",
       "    }\n",
       "\n",
       "    .dataframe tbody tr th {\n",
       "        vertical-align: top;\n",
       "    }\n",
       "\n",
       "    .dataframe thead th {\n",
       "        text-align: right;\n",
       "    }\n",
       "</style>\n",
       "<table border=\"1\" class=\"dataframe\">\n",
       "  <thead>\n",
       "    <tr style=\"text-align: right;\">\n",
       "      <th></th>\n",
       "      <th>ProductID</th>\n",
       "      <th>Price</th>\n",
       "      <th>Rating</th>\n",
       "      <th>NumReviews</th>\n",
       "      <th>StockQuantity</th>\n",
       "      <th>Discount</th>\n",
       "      <th>Sales</th>\n",
       "    </tr>\n",
       "  </thead>\n",
       "  <tbody>\n",
       "    <tr>\n",
       "      <th>497</th>\n",
       "      <td>498</td>\n",
       "      <td>172.90</td>\n",
       "      <td>1.2</td>\n",
       "      <td>2606</td>\n",
       "      <td>678</td>\n",
       "      <td>0.47</td>\n",
       "      <td>1164</td>\n",
       "    </tr>\n",
       "    <tr>\n",
       "      <th>933</th>\n",
       "      <td>934</td>\n",
       "      <td>116.69</td>\n",
       "      <td>3.5</td>\n",
       "      <td>1836</td>\n",
       "      <td>921</td>\n",
       "      <td>0.24</td>\n",
       "      <td>535</td>\n",
       "    </tr>\n",
       "  </tbody>\n",
       "</table>\n",
       "</div>"
      ],
      "text/plain": [
       "     ProductID   Price  Rating  NumReviews  StockQuantity  Discount  Sales\n",
       "497        498  172.90     1.2        2606            678      0.47   1164\n",
       "933        934  116.69     3.5        1836            921      0.24    535"
      ]
     },
     "execution_count": 7,
     "metadata": {},
     "output_type": "execute_result"
    }
   ],
   "source": [
    "atrib_numer.sample(2)"
   ]
  },
  {
   "cell_type": "code",
   "execution_count": 8,
   "id": "52778a67-aa0e-48f1-9537-f8d58e9d7d8c",
   "metadata": {},
   "outputs": [
    {
     "data": {
      "text/html": [
       "<div>\n",
       "<style scoped>\n",
       "    .dataframe tbody tr th:only-of-type {\n",
       "        vertical-align: middle;\n",
       "    }\n",
       "\n",
       "    .dataframe tbody tr th {\n",
       "        vertical-align: top;\n",
       "    }\n",
       "\n",
       "    .dataframe thead th {\n",
       "        text-align: right;\n",
       "    }\n",
       "</style>\n",
       "<table border=\"1\" class=\"dataframe\">\n",
       "  <thead>\n",
       "    <tr style=\"text-align: right;\">\n",
       "      <th></th>\n",
       "      <th>ProductName</th>\n",
       "      <th>Category</th>\n",
       "      <th>City</th>\n",
       "    </tr>\n",
       "  </thead>\n",
       "  <tbody>\n",
       "    <tr>\n",
       "      <th>429</th>\n",
       "      <td>Canvas</td>\n",
       "      <td>Art and crafting materials</td>\n",
       "      <td>Washington</td>\n",
       "    </tr>\n",
       "    <tr>\n",
       "      <th>403</th>\n",
       "      <td>Brushes</td>\n",
       "      <td>Art and crafting materials</td>\n",
       "      <td>Portland</td>\n",
       "    </tr>\n",
       "  </tbody>\n",
       "</table>\n",
       "</div>"
      ],
      "text/plain": [
       "    ProductName                    Category        City\n",
       "429      Canvas  Art and crafting materials  Washington\n",
       "403     Brushes  Art and crafting materials    Portland"
      ]
     },
     "execution_count": 8,
     "metadata": {},
     "output_type": "execute_result"
    }
   ],
   "source": [
    "atrib_cat.sample(2)"
   ]
  },
  {
   "cell_type": "code",
   "execution_count": 9,
   "id": "0fd63241-603d-4b0d-aa14-10a0eb21b313",
   "metadata": {},
   "outputs": [],
   "source": [
    "# Checking Central Tendencies\n",
    "ct1 = pd.DataFrame(atrib_numer.apply( np.mean) ).T\n",
    "ct2 = pd.DataFrame(atrib_numer.apply( np.median) ).T"
   ]
  },
  {
   "cell_type": "code",
   "execution_count": 10,
   "id": "16129d73-4c55-4028-8d5c-1e78f33094d8",
   "metadata": {},
   "outputs": [],
   "source": [
    "# Dispersion of numerical data \n",
    "d1 = pd.DataFrame ( atrib_numer.apply (np. std ) ).T\n",
    "d2 = pd.DataFrame ( atrib_numer.apply ( min ) ).T\n",
    "d3 = pd.DataFrame ( atrib_numer.apply ( max ) ).T\n",
    "d4 = pd.DataFrame ( atrib_numer.apply (lambda x: x.max() - x.min() ) ).T\n",
    "d5 = pd.DataFrame ( atrib_numer.apply (lambda x: x.skew() ) ).T\n",
    "d6 = pd.DataFrame ( atrib_numer.apply (lambda x: x.kurtosis() ) ).T"
   ]
  },
  {
   "cell_type": "code",
   "execution_count": 11,
   "id": "968dc7e9-7259-4bb6-ad3d-e941e201c541",
   "metadata": {},
   "outputs": [],
   "source": [
    "# Concatenating data sparseness.\n",
    "metricas = pd.concat( [d2, d3, d4, ct1, ct2, d1, d5, d6] ).T.reset_index()\n",
    "metricas.columns = ['atributos', 'min', 'max', 'range', 'mean', 'median', 'std', 'skew', 'kurtosis'] "
   ]
  },
  {
   "cell_type": "code",
   "execution_count": 12,
   "id": "ba6bd3c4-31aa-411a-86f4-4dfc94f833fd",
   "metadata": {},
   "outputs": [
    {
     "data": {
      "text/html": [
       "<div>\n",
       "<style scoped>\n",
       "    .dataframe tbody tr th:only-of-type {\n",
       "        vertical-align: middle;\n",
       "    }\n",
       "\n",
       "    .dataframe tbody tr th {\n",
       "        vertical-align: top;\n",
       "    }\n",
       "\n",
       "    .dataframe thead th {\n",
       "        text-align: right;\n",
       "    }\n",
       "</style>\n",
       "<table border=\"1\" class=\"dataframe\">\n",
       "  <thead>\n",
       "    <tr style=\"text-align: right;\">\n",
       "      <th></th>\n",
       "      <th>atributos</th>\n",
       "      <th>min</th>\n",
       "      <th>max</th>\n",
       "      <th>range</th>\n",
       "      <th>mean</th>\n",
       "      <th>median</th>\n",
       "      <th>std</th>\n",
       "      <th>skew</th>\n",
       "      <th>kurtosis</th>\n",
       "    </tr>\n",
       "  </thead>\n",
       "  <tbody>\n",
       "    <tr>\n",
       "      <th>1</th>\n",
       "      <td>Price</td>\n",
       "      <td>10.11</td>\n",
       "      <td>499.74</td>\n",
       "      <td>489.63</td>\n",
       "      <td>253.77551</td>\n",
       "      <td>251.31</td>\n",
       "      <td>141.332900</td>\n",
       "      <td>0.031605</td>\n",
       "      <td>-1.163139</td>\n",
       "    </tr>\n",
       "    <tr>\n",
       "      <th>2</th>\n",
       "      <td>Rating</td>\n",
       "      <td>1.00</td>\n",
       "      <td>5.00</td>\n",
       "      <td>4.00</td>\n",
       "      <td>3.02560</td>\n",
       "      <td>3.10</td>\n",
       "      <td>1.150428</td>\n",
       "      <td>-0.078781</td>\n",
       "      <td>-1.152106</td>\n",
       "    </tr>\n",
       "    <tr>\n",
       "      <th>3</th>\n",
       "      <td>NumReviews</td>\n",
       "      <td>3.00</td>\n",
       "      <td>4994.00</td>\n",
       "      <td>4991.00</td>\n",
       "      <td>2498.75300</td>\n",
       "      <td>2476.00</td>\n",
       "      <td>1462.510067</td>\n",
       "      <td>0.000140</td>\n",
       "      <td>-1.243162</td>\n",
       "    </tr>\n",
       "    <tr>\n",
       "      <th>4</th>\n",
       "      <td>StockQuantity</td>\n",
       "      <td>0.00</td>\n",
       "      <td>993.00</td>\n",
       "      <td>993.00</td>\n",
       "      <td>495.39500</td>\n",
       "      <td>505.00</td>\n",
       "      <td>292.652816</td>\n",
       "      <td>-0.022212</td>\n",
       "      <td>-1.228884</td>\n",
       "    </tr>\n",
       "    <tr>\n",
       "      <th>5</th>\n",
       "      <td>Discount</td>\n",
       "      <td>0.00</td>\n",
       "      <td>0.50</td>\n",
       "      <td>0.50</td>\n",
       "      <td>0.25164</td>\n",
       "      <td>0.25</td>\n",
       "      <td>0.146381</td>\n",
       "      <td>0.000592</td>\n",
       "      <td>-1.201066</td>\n",
       "    </tr>\n",
       "    <tr>\n",
       "      <th>6</th>\n",
       "      <td>Sales</td>\n",
       "      <td>0.00</td>\n",
       "      <td>1997.00</td>\n",
       "      <td>1997.00</td>\n",
       "      <td>1011.03700</td>\n",
       "      <td>998.00</td>\n",
       "      <td>581.822337</td>\n",
       "      <td>-0.017176</td>\n",
       "      <td>-1.209282</td>\n",
       "    </tr>\n",
       "  </tbody>\n",
       "</table>\n",
       "</div>"
      ],
      "text/plain": [
       "       atributos    min      max    range        mean   median          std  \\\n",
       "1          Price  10.11   499.74   489.63   253.77551   251.31   141.332900   \n",
       "2         Rating   1.00     5.00     4.00     3.02560     3.10     1.150428   \n",
       "3     NumReviews   3.00  4994.00  4991.00  2498.75300  2476.00  1462.510067   \n",
       "4  StockQuantity   0.00   993.00   993.00   495.39500   505.00   292.652816   \n",
       "5       Discount   0.00     0.50     0.50     0.25164     0.25     0.146381   \n",
       "6          Sales   0.00  1997.00  1997.00  1011.03700   998.00   581.822337   \n",
       "\n",
       "       skew  kurtosis  \n",
       "1  0.031605 -1.163139  \n",
       "2 -0.078781 -1.152106  \n",
       "3  0.000140 -1.243162  \n",
       "4 -0.022212 -1.228884  \n",
       "5  0.000592 -1.201066  \n",
       "6 -0.017176 -1.209282  "
      ]
     },
     "execution_count": 12,
     "metadata": {},
     "output_type": "execute_result"
    }
   ],
   "source": [
    "metricas = metricas.drop(metricas[metricas['atributos'] == 'ProductID'].index, axis=0)\n",
    "metricas"
   ]
  },
  {
   "cell_type": "code",
   "execution_count": 17,
   "id": "91789020-c355-4f24-a924-63be22647ea3",
   "metadata": {},
   "outputs": [
    {
     "data": {
      "text/plain": [
       "<Axes: xlabel='Sales', ylabel='Density'>"
      ]
     },
     "execution_count": 17,
     "metadata": {},
     "output_type": "execute_result"
    },
    {
     "data": {
      "image/png": "[encoded data removed]",
      "text/plain": [
       "<Figure size 640x480 with 1 Axes>"
      ]
     },
     "metadata": {},
     "output_type": "display_data"
    }
   ],
   "source": [
    "sns.distplot(df['Sales'])"
   ]
  },
  {
   "cell_type": "code",
   "execution_count": 14,
   "id": "fbe5a978-39d3-41eb-afe4-2dbc7d527e0a",
   "metadata": {},
   "outputs": [
    {
     "data": {
      "text/plain": [
       "ProductName    100\n",
       "Category        25\n",
       "City           101\n",
       "dtype: int64"
      ]
     },
     "execution_count": 14,
     "metadata": {},
     "output_type": "execute_result"
    }
   ],
   "source": [
    "atrib_cat.apply( lambda x: x.unique().shape[0] )"
   ]
  },
  {
   "cell_type": "code",
   "execution_count": 15,
   "id": "d42cda86-758b-4aac-87b9-d83908f27371",
   "metadata": {},
   "outputs": [
    {
     "data": {
      "text/html": [
       "<div>\n",
       "<style scoped>\n",
       "    .dataframe tbody tr th:only-of-type {\n",
       "        vertical-align: middle;\n",
       "    }\n",
       "\n",
       "    .dataframe tbody tr th {\n",
       "        vertical-align: top;\n",
       "    }\n",
       "\n",
       "    .dataframe thead th {\n",
       "        text-align: right;\n",
       "    }\n",
       "</style>\n",
       "<table border=\"1\" class=\"dataframe\">\n",
       "  <thead>\n",
       "    <tr style=\"text-align: right;\">\n",
       "      <th></th>\n",
       "      <th>ProductID</th>\n",
       "      <th>ProductName</th>\n",
       "      <th>Category</th>\n",
       "      <th>Price</th>\n",
       "      <th>Rating</th>\n",
       "      <th>NumReviews</th>\n",
       "      <th>StockQuantity</th>\n",
       "      <th>Discount</th>\n",
       "      <th>Sales</th>\n",
       "      <th>DateAdded</th>\n",
       "      <th>City</th>\n",
       "    </tr>\n",
       "  </thead>\n",
       "  <tbody>\n",
       "    <tr>\n",
       "      <th>0</th>\n",
       "      <td>1</td>\n",
       "      <td>Headphones</td>\n",
       "      <td>Electronics</td>\n",
       "      <td>400.31</td>\n",
       "      <td>1.7</td>\n",
       "      <td>3772</td>\n",
       "      <td>20</td>\n",
       "      <td>0.08</td>\n",
       "      <td>466</td>\n",
       "      <td>2023-11-10</td>\n",
       "      <td>Albuquerque</td>\n",
       "    </tr>\n",
       "    <tr>\n",
       "      <th>1</th>\n",
       "      <td>2</td>\n",
       "      <td>Headphones</td>\n",
       "      <td>Electronics</td>\n",
       "      <td>235.03</td>\n",
       "      <td>2.3</td>\n",
       "      <td>2919</td>\n",
       "      <td>663</td>\n",
       "      <td>0.33</td>\n",
       "      <td>1332</td>\n",
       "      <td>2023-09-28</td>\n",
       "      <td>Queens</td>\n",
       "    </tr>\n",
       "    <tr>\n",
       "      <th>2</th>\n",
       "      <td>3</td>\n",
       "      <td>Smartwatch</td>\n",
       "      <td>Electronics</td>\n",
       "      <td>417.90</td>\n",
       "      <td>1.8</td>\n",
       "      <td>1184</td>\n",
       "      <td>459</td>\n",
       "      <td>0.31</td>\n",
       "      <td>252</td>\n",
       "      <td>2023-10-20</td>\n",
       "      <td>Austin</td>\n",
       "    </tr>\n",
       "  </tbody>\n",
       "</table>\n",
       "</div>"
      ],
      "text/plain": [
       "   ProductID ProductName     Category   Price  Rating  NumReviews  \\\n",
       "0          1  Headphones  Electronics  400.31     1.7        3772   \n",
       "1          2  Headphones  Electronics  235.03     2.3        2919   \n",
       "2          3  Smartwatch  Electronics  417.90     1.8        1184   \n",
       "\n",
       "   StockQuantity  Discount  Sales  DateAdded         City  \n",
       "0             20      0.08    466 2023-11-10  Albuquerque  \n",
       "1            663      0.33   1332 2023-09-28       Queens  \n",
       "2            459      0.31    252 2023-10-20       Austin  "
      ]
     },
     "execution_count": 15,
     "metadata": {},
     "output_type": "execute_result"
    }
   ],
   "source": [
    "df.head(3)"
   ]
  },
  {
   "cell_type": "code",
   "execution_count": 18,
   "id": "fa5683bc-ab12-4207-8ffc-4a813a2857e0",
   "metadata": {},
   "outputs": [
    {
     "data": {
      "text/plain": [
       "<Axes: xlabel='Sales', ylabel='Category'>"
      ]
     },
     "execution_count": 18,
     "metadata": {},
     "output_type": "execute_result"
    },
    {
     "data": {
      "image/png": "[encoded data removed]",
      "text/plain": [
       "<Figure size 640x480 with 1 Axes>"
      ]
     },
     "metadata": {},
     "output_type": "display_data"
    }
   ],
   "source": [
    "# Checking which categories sell 'More' and which ones sell 'Less'.\n",
    "# Therefore, we found that the categories 'Electronics', 'Art and crafting materials' and 'Bedsheets' would be the 3 most profitable.\n",
    "sns.boxplot(x= 'Sales', y = 'Category', data = df )"
   ]
  },
  {
   "cell_type": "code",
   "execution_count": 19,
   "id": "a8406585-e7f1-46f6-a949-d5054d54e3f2",
   "metadata": {},
   "outputs": [
    {
     "data": {
      "text/plain": [
       "([0, 1, 2, 3, 4, 5, 6, 7, 8, 9],\n",
       " [Text(0, 0, 'Pittsburgh'),\n",
       "  Text(1, 0, 'San Francisco'),\n",
       "  Text(2, 0, 'Oklahoma City'),\n",
       "  Text(3, 0, 'Spokane'),\n",
       "  Text(4, 0, 'Akron'),\n",
       "  Text(5, 0, 'Palm Bay'),\n",
       "  Text(6, 0, 'Houston'),\n",
       "  Text(7, 0, 'New York'),\n",
       "  Text(8, 0, 'Queens'),\n",
       "  Text(9, 0, 'Charlotte')])"
      ]
     },
     "execution_count": 19,
     "metadata": {},
     "output_type": "execute_result"
    },
    {
     "data": {
      "image/png": "[encoded data removed]",
      "text/plain": [
       "<Figure size 640x480 with 1 Axes>"
      ]
     },
     "metadata": {},
     "output_type": "display_data"
    }
   ],
   "source": [
    "# Grouping sales by city and calculating the sum of sales for each city\n",
    "vendas_por_cidade = df.groupby('City')['Sales'].sum().reset_index()\n",
    "\n",
    "# Sorting cities by sales value in descending order\n",
    "vendas_por_cidade = vendas_por_cidade.sort_values(by='Sales', ascending=False)\n",
    "\n",
    "# Selecting the 10 cities that most impact our sales\n",
    "top_10_cidades = vendas_por_cidade.head(10)\n",
    "\n",
    "# Selecionando as 10 cidades com melhores vendas\n",
    "sns.boxplot(\n",
    "    x = 'City',\n",
    "    y = 'Sales',\n",
    "    showmeans= True,\n",
    "    data=top_10_cidades\n",
    ")\n",
    "\n",
    "# Rotacionando os rótulos dos nomes das cidades para melhor legibilidade.\n",
    "plt.xticks(rotation=45)"
   ]
  },
  {
   "cell_type": "code",
   "execution_count": null,
   "id": "42606cc4-db67-4882-9b36-04edabe7d904",
   "metadata": {},
   "outputs": [],
   "source": [
    "atrib_cat.apply( lambda x: x.unique().shape[0] )"
   ]
  },
  {
   "cell_type": "code",
   "execution_count": null,
   "id": "6bc9ab3b-0b75-4eac-96e2-2d1035640ae3",
   "metadata": {},
   "outputs": [],
   "source": [
    "# Agrupando as vendas por 10 produtos mais vendidos\n",
    "vendas_por_produto = df.groupby('ProductName')['Sales'].sum().reset_index()\n",
    "\n",
    "# Ordenando por ordem crescente, dos 10 produtos mais vendidos\n",
    "vendas_por_produto = vendas_por_produto.sort_values(by='Sales', ascending=False)\n",
    "\n",
    "# Selecionando os 10 produtos mais vendidos\n",
    "top_10_produtos = vendas_por_produto.head(10)\n",
    "\n",
    "# Selecionando os 10 produtos mais vendidos\n",
    "sns.boxplot(\n",
    "    x = 'ProductName',\n",
    "    y = 'Sales',\n",
    "    showmeans= True,\n",
    "    data=top_10_produtos\n",
    ")\n",
    "\n",
    "# Rotacionando os rótulos dos nomes das cidades para melhor legibilidade.\n",
    "plt.xticks(rotation=45)"
   ]
  },
  {
   "cell_type": "code",
   "execution_count": null,
   "id": "bd570988-1d80-4ea1-94c0-9d34bd895f4c",
   "metadata": {},
   "outputs": [],
   "source": []
  }
 ],
 "metadata": {
  "kernelspec": {
   "display_name": "Python 3 (ipykernel)",
   "language": "python",
   "name": "python3"
  },
  "language_info": {
   "codemirror_mode": {
    "name": "ipython",
    "version": 3
   },
   "file_extension": ".py",
   "mimetype": "text/x-python",
   "name": "python",
   "nbconvert_exporter": "python",
   "pygments_lexer": "ipython3",
   "version": "3.12.4"
  }
 },
 "nbformat": 4,
 "nbformat_minor": 5
}
